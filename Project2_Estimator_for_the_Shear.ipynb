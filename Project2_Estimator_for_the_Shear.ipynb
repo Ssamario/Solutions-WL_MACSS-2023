{
  "nbformat": 4,
  "nbformat_minor": 0,
  "metadata": {
    "colab": {
      "provenance": [],
      "authorship_tag": "ABX9TyPIbBhWHYknwkeyD6vrxhWX",
      "include_colab_link": true
    },
    "kernelspec": {
      "name": "python3",
      "display_name": "Python 3"
    },
    "language_info": {
      "name": "python"
    }
  },
  "cells": [
    {
      "cell_type": "markdown",
      "metadata": {
        "id": "view-in-github",
        "colab_type": "text"
      },
      "source": [
        "<a href=\"https://colab.research.google.com/github/Ssamario/Solutions-WL_MACSS-2023/blob/main/Project2_Estimator_for_the_Shear.ipynb\" target=\"_parent\"><img src=\"https://colab.research.google.com/assets/colab-badge.svg\" alt=\"Open In Colab\"/></a>"
      ]
    },
    {
      "cell_type": "code",
      "execution_count": 7,
      "metadata": {
        "id": "z2KERfWUbfRy"
      },
      "outputs": [],
      "source": [
        "import numpy as np\n",
        "import matplotlib.pyplot as plt\n",
        "from math import floor\n",
        "import time\n",
        "import os"
      ]
    },
    {
      "cell_type": "code",
      "source": [
        "!git clone https://github.com/Ssamario/Solutions-WL_MACSS-2023.git"
      ],
      "metadata": {
        "colab": {
          "base_uri": "https://localhost:8080/"
        },
        "id": "7wVR9gA1gpE5",
        "outputId": "15472f6f-cd33-4635-c78d-81f666d1d302"
      },
      "execution_count": 8,
      "outputs": [
        {
          "output_type": "stream",
          "name": "stdout",
          "text": [
            "Cloning into 'Solutions-WL_MACSS-2023'...\n",
            "remote: Enumerating objects: 25, done.\u001b[K\n",
            "remote: Counting objects: 100% (25/25), done.\u001b[K\n",
            "remote: Compressing objects: 100% (23/23), done.\u001b[K\n",
            "remote: Total 25 (delta 8), reused 0 (delta 0), pack-reused 0\u001b[K\n",
            "Unpacking objects: 100% (25/25), 74.98 KiB | 1.44 MiB/s, done.\n"
          ]
        }
      ]
    },
    {
      "cell_type": "code",
      "source": [
        "os.chdir('Solutions-WL_MACSS-2023')  # move to repositiry folder"
      ],
      "metadata": {
        "id": "7yRn124BguL7"
      },
      "execution_count": 9,
      "outputs": []
    },
    {
      "cell_type": "code",
      "source": [
        "dt=np.dtype({'names':['X','Y','gamma1', 'gamma2'],'formats':[float,float,float,float]})"
      ],
      "metadata": {
        "id": "iHgl6Bgdb68V"
      },
      "execution_count": 2,
      "outputs": []
    },
    {
      "cell_type": "code",
      "source": [
        "data= np.loadtxt(open('shear_data.txt'),dtype=dt)\n",
        "X_data=[x[0] for x in data]\n",
        "Y_data=[x[1] for x in data]\n",
        "gamma1_data=[x[2] for x in data]\n",
        "gamma2_data=[x[3] for x in data]"
      ],
      "metadata": {
        "id": "6xHbl5iScB1M"
      },
      "execution_count": 3,
      "outputs": []
    },
    {
      "cell_type": "markdown",
      "source": [
        "The most basic, non-trivial cosmic shear observable is the real-space shear two-point correlation function (2PCF), since it can be estimated by multiplying the ellipticities of galaxy pairs averaging."
      ],
      "metadata": {
        "id": "R_aRZWK3cIlw"
      }
    },
    {
      "cell_type": "markdown",
      "source": [
        "The two shear components of each galaxy are conveniently decomposed into TANGENTIAL COMPONENT $\\gamma_{t}$, and cross-component $\\gamma_{x}$. With respect to a given direction vector $\\theta$ whose polar angle is $\\phi$, they are defined as $\\gamma_{t} = -R(\\gamma e^{-2i\\phi})$,     $\\gamma_{x} = -I(\\gamma e^{-2i\\phi})$"
      ],
      "metadata": {
        "id": "HAELHR6BcND4"
      }
    },
    {
      "cell_type": "markdown",
      "source": [
        "The minus sign, by convention results in a positive value of $\\gamma_{t}$ for the tangential aligment around a mass overdensity. Radial aligment around underdensities have a negative $\\gamma_{t}$"
      ],
      "metadata": {
        "id": "dBVM0l2-cOfB"
      }
    },
    {
      "cell_type": "markdown",
      "source": [
        "A positive cross-component shear is rotated by $\\pi/4$ with respect to the tangential component"
      ],
      "metadata": {
        "id": "Sf0dyULVcb6R"
      }
    },
    {
      "cell_type": "code",
      "source": [
        "def xitt_xixx_xitx(samplexT,sampleyT,sampleGamma1,sampleGamma2,numOfbins,maxdist):\n",
        "\n",
        "    Num  = len(samplexT)\n",
        "    hist_xitt=np.zeros(numOfbins)\n",
        "    hist_xixx=np.zeros(numOfbins)\n",
        "    hist_xitx=np.zeros(numOfbins)\n",
        "    numInbin =np.zeros(numOfbins)\n",
        "\n",
        "    bindist=maxdist/(numOfbins)\n",
        "\n",
        "    for i in range(Num):\n",
        "        p1x = samplexT[i]\n",
        "        p1y = sampleyT[i]\n",
        "        gamma1 = sampleGamma1[i]\n",
        "        gamma2 = sampleGamma2[i]\n",
        "        p1gamma =  gamma1 + 1j * gamma2\n",
        "\n",
        "\n",
        "        for j in range(i+1,Num):\n",
        "            p2x = samplexT[j]\n",
        "            p2y = sampleyT[j]\n",
        "            gamma1 = sampleGamma1[j]\n",
        "            gamma2 = sampleGamma2[j]\n",
        "            p2gamma =  gamma1 + 1j * gamma2\n",
        "\n",
        "\n",
        "            dist = np.sqrt(((p2y - p1y)**2) + ((p2x - p1x)**2))\n",
        "\n",
        "            cosangpair = (p2x - p1x)/dist\n",
        "            if p2y - p1y > 0:\n",
        "                sign = 1\n",
        "            else:\n",
        "                sign = -1\n",
        "\n",
        "            angpair = sign * np.arccos(cosangpair)\n",
        "            p1_gamma_helicity = -p1gamma * np.exp(-2j*angpair)\n",
        "            p2_gamma_helicity = -p2gamma * np.exp(-2j*angpair)\n",
        "\n",
        "            p1_gamma_t = np.real(p1_gamma_helicity)\n",
        "            p1_gamma_x = np.imag(p1_gamma_helicity)\n",
        "            p2_gamma_t = np.real(p2_gamma_helicity)\n",
        "            p2_gamma_x = np.imag(p2_gamma_helicity)\n",
        "\n",
        "            xi_tt = p1_gamma_t * p2_gamma_t\n",
        "            xi_xx = p1_gamma_x * p2_gamma_x\n",
        "            xi_tx = p1_gamma_t * p2_gamma_x\n",
        "\n",
        "\n",
        "            # binning\n",
        "            if(0<dist<=maxdist):\n",
        "                inbin = int(dist/bindist)\n",
        "                numInbin[[inbin]]  += 1\n",
        "                hist_xitt[[inbin]] += xi_tt\n",
        "                hist_xixx[[inbin]] += xi_xx\n",
        "                hist_xitx[[inbin]] += xi_tx\n",
        "\n",
        "    numInbin[numInbin==0]=1\n",
        "\n",
        "    hist_xitt = np.divide(hist_xitt,numInbin)\n",
        "    hist_xixx = np.divide(hist_xixx,numInbin)\n",
        "    hist_xitx = np.divide(hist_xitx,numInbin)\n",
        "\n",
        "\n",
        "    return hist_xitt, hist_xixx, hist_xitx,numInbin"
      ],
      "metadata": {
        "id": "d3VdMnwZcdp2"
      },
      "execution_count": 4,
      "outputs": []
    },
    {
      "cell_type": "markdown",
      "source": [
        "Three two point correlators can be formed from the two shear components $\\langle \\gamma_{t}\\gamma_{t} \\rangle$, $\\langle \\gamma_{x}\\gamma_{x} \\rangle$ and $\\langle \\gamma_{t}\\gamma_{x} \\rangle$."
      ],
      "metadata": {
        "id": "UM1CIRFWcpXP"
      }
    },
    {
      "cell_type": "markdown",
      "source": [
        "$\\langle \\gamma_{t}\\gamma_{x} \\rangle$ vanishes in a parity-symmetric universe, where the shear field is statistically invariant under a mirror transformation. Such a transformation leaves $\\gamma_{t}$ invariant but changes the sign of $\\gamma_{x}$."
      ],
      "metadata": {
        "id": "wVMwPI1Jcpi2"
      }
    },
    {
      "cell_type": "markdown",
      "source": [
        "The two non-zero two-point correlators are combined into the two components of the shear 2PCF"
      ],
      "metadata": {
        "id": "B8zMbZMucptI"
      }
    },
    {
      "cell_type": "markdown",
      "source": [
        "$\\xi_{+}(\\theta) = \\langle \\gamma \\gamma^{*} \\rangle(\\theta) = \\langle \\gamma_{t}\\gamma_{t}\\rangle(\\theta) + \\langle \\gamma_{x}\\gamma_{x}\\rangle(\\theta)$"
      ],
      "metadata": {
        "id": "eKlMpGiMcp3W"
      }
    },
    {
      "cell_type": "markdown",
      "source": [
        "$\\xi_{-}(\\theta) = R [\\langle \\gamma\\gamma \\rangle(\\theta)e^{-4i\\phi}] = \\langle \\gamma_{t}\\gamma_{t}\\rangle(\\theta) - \\langle \\gamma_{x}\\gamma_{x}\\rangle(\\theta)$"
      ],
      "metadata": {
        "id": "E1j3DvowcqBs"
      }
    },
    {
      "cell_type": "markdown",
      "source": [
        "An estimator of the 2PCF is"
      ],
      "metadata": {
        "id": "3OSR4u_QdP2W"
      }
    },
    {
      "cell_type": "markdown",
      "source": [
        "$\\hat{\\xi}_{\\pm} = \\frac{\\sum_{ij}\\omega_{i}\\omega_{j}(\\epsilon_{t,i}\\epsilon_{t,j}\\pm \\epsilon_{x,i}\\epsilon_{x,j})}{\\sum_{ij}\\omega_{i}\\omega_{j}}$"
      ],
      "metadata": {
        "id": "D3fiEVq6da_r"
      }
    },
    {
      "cell_type": "markdown",
      "source": [
        "The sum extends over pairs of galaxies $(i,j)$ at positions on the sky $\\theta_{i}$ and $\\theta_{j}$, respectively, whose separation $|\\theta_{i} - \\theta_{j}|$ lies in an angular distance bin around $\\theta$."
      ],
      "metadata": {
        "id": "CBIbqeyfdbI2"
      }
    },
    {
      "cell_type": "markdown",
      "source": [
        "Each galaxy has a measured ellipticity $\\epsilon_{i}$, and an attributed weight $\\omega_{i}$, which may reflect the measurement uncertainty."
      ],
      "metadata": {
        "id": "pQc5fP8Edh7b"
      }
    },
    {
      "cell_type": "code",
      "source": [
        "inicio = time.time()\n",
        "xitt, xixx, xitx,numInbin = xitt_xixx_xitx(X_data,Y_data,gamma1_data,gamma2_data,10,2.828)\n",
        "fin = time.time()\n",
        "print(fin-inicio)\n",
        "xiplus = xitt + xixx\n",
        "ximinus = xitt - xixx\n",
        "xicross = xitx"
      ],
      "metadata": {
        "colab": {
          "base_uri": "https://localhost:8080/"
        },
        "id": "lfkRG51QdaUi",
        "outputId": "8d3a17ff-3a5b-46dc-b3e8-54de1e48857d"
      },
      "execution_count": 5,
      "outputs": [
        {
          "output_type": "stream",
          "name": "stdout",
          "text": [
            "2.692732095718384\n"
          ]
        }
      ]
    },
    {
      "cell_type": "code",
      "source": [
        "plt.plot(xiplus, 'r--o', label=\"$\\\\xi_{+}$\")\n",
        "plt.plot(ximinus,'g--o', label=\"$\\\\xi_{-}$\")\n",
        "plt.plot(xicross,'b--o', label=\"$\\\\xi_{x}$\")\n",
        "plt.axhline(y=0, xmin=0, xmax=10)\n",
        "plt.title(\"Correlación del shear\")\n",
        "plt.legend()\n",
        "plt.show()"
      ],
      "metadata": {
        "colab": {
          "base_uri": "https://localhost:8080/",
          "height": 452
        },
        "id": "2lgJcLlTdwyt",
        "outputId": "91b8131c-ba20-40be-964f-da4c01e51a6a"
      },
      "execution_count": 6,
      "outputs": [
        {
          "output_type": "display_data",
          "data": {
            "text/plain": [
              "<Figure size 640x480 with 1 Axes>"
            ],
            "image/png": "[encoded data removed]"
          },
          "metadata": {}
        }
      ]
    }
  ]
}